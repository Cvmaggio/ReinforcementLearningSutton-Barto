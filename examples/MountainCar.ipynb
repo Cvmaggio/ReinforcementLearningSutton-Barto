{
 "metadata": {
  "language_info": {
   "codemirror_mode": {
    "name": "ipython",
    "version": 3
   },
   "file_extension": ".py",
   "mimetype": "text/x-python",
   "name": "python",
   "nbconvert_exporter": "python",
   "pygments_lexer": "ipython3",
   "version": "3.8.5"
  },
  "orig_nbformat": 2,
  "kernelspec": {
   "name": "python385jvsc74a57bd031f2aee4e71d21fbe5cf8b01ff0e069b9275f58929596ceb00d14d90e3e16cd6",
   "display_name": "Python 3.8.5 64-bit"
  },
  "metadata": {
   "interpreter": {
    "hash": "31f2aee4e71d21fbe5cf8b01ff0e069b9275f58929596ceb00d14d90e3e16cd6"
   }
  }
 },
 "nbformat": 4,
 "nbformat_minor": 2,
 "cells": [
  {
   "cell_type": "code",
   "execution_count": 1,
   "metadata": {},
   "outputs": [],
   "source": [
    "import matplotlib.pyplot as plt\n",
    "import numpy as np  \n",
    "import math\n",
    "import random"
   ]
  },
  {
   "cell_type": "code",
   "execution_count": 2,
   "metadata": {},
   "outputs": [],
   "source": [
    "# original_curve = 0.000833333*sin(3*x) from -1.2 to .5\n",
    "# velocity_curve = -0.0025*cos(3*x) from -1.2 to .5"
   ]
  },
  {
   "cell_type": "code",
   "execution_count": 3,
   "metadata": {},
   "outputs": [],
   "source": [
    "#Constants\n",
    "MAX_POS = 0.5\n",
    "MIN_POS = -1.2\n",
    "MAX_VEL = 0.07\n",
    "MIN_VEL = -0.07\n",
    "TERMINAL_POS = MAX_POS\n",
    "ACTIONS = [-1,0,1]\n",
    "\n",
    "EPSILON = 1.0\n",
    "GAMMA = 0.9\n",
    "TILINGS = 8\n",
    "WEIGHT_DIMENSIONALITY = 2**10\n",
    "\n",
    "#I dont know why the scaling is needed yet. For now, Im lifting it from the source code without understanding \n",
    "POSITION_SCALE = TILINGS / (MAX_POS - MIN_POS)\n",
    "VELOCITY_SCALE = TILINGS / (MAX_VEL - MIN_VEL)"
   ]
  },
  {
   "cell_type": "code",
   "execution_count": 4,
   "metadata": {},
   "outputs": [],
   "source": [
    "class Environment:\n",
    "    def __init__(self, starting_position = 0.0, starting_velocity = 0.0):\n",
    "        self.pos = starting_position\n",
    "        self.vel = starting_velocity\n",
    "\n",
    "    def update(self, acceleration):\n",
    "        if acceleration not in ACTIONS:\n",
    "            raise ValueError(\"Invalid Acceleration\")\n",
    "        if self.pos == MAX_POS:\n",
    "            return 0.0\n",
    "        acc = acceleration\n",
    "        self.vel = max(min(self.vel+0.001*acc-0.0025*math.cos(3*self.pos),MAX_VEL),MIN_VEL)\n",
    "        self.pos = max(min(self.pos+self.vel,MAX_POS),MIN_POS)\n",
    "        if self.pos == MAX_POS:\n",
    "            return 0.0\n",
    "        return -1.0\n",
    "\n",
    "    def get_state(self):\n",
    "        return (self.pos, self.vel)\n",
    "\n",
    "    def get_pos(self):\n",
    "        return self.pos\n",
    "\n",
    "    def get_vel(self):\n",
    "        return self.vel\n",
    "\n"
   ]
  },
  {
   "cell_type": "code",
   "execution_count": 5,
   "metadata": {},
   "outputs": [],
   "source": [
    "#######################################################################\n",
    "# Copyright (C)                                                       #\n",
    "# 2016-2018 Shangtong Zhang(zhangshangtong.cpp@gmail.com)             #\n",
    "# 2016 Kenta Shimada(hyperkentakun@gmail.com)                         #\n",
    "# Permission given to modify the code as long as you keep this        #\n",
    "# declaration at the top                                              #\n",
    "#######################################################################\n",
    "#######################################################################\n",
    "# Following are some utilities for tile coding from Rich.\n",
    "# To make each file self-contained, I copied them from\n",
    "# http://incompleteideas.net/tiles/tiles3.py-remove\n",
    "# with some naming convention changes\n",
    "#\n",
    "# Tile coding starts\n",
    "class IHT:\n",
    "    \"Structure to handle collisions\"\n",
    "    def __init__(self, size_val):\n",
    "        self.size = size_val\n",
    "        self.overfull_count = 0\n",
    "        self.dictionary = {}\n",
    "\n",
    "    def count(self):\n",
    "        return len(self.dictionary)\n",
    "\n",
    "    def full(self):\n",
    "        return len(self.dictionary) >= self.size\n",
    "\n",
    "    def get_index(self, obj, read_only=False):\n",
    "        d = self.dictionary\n",
    "        if obj in d:\n",
    "            return d[obj]\n",
    "        elif read_only:\n",
    "            return None\n",
    "        size = self.size\n",
    "        count = self.count()\n",
    "        if count >= size:\n",
    "            if self.overfull_count == 0: print('IHT full, starting to allow collisions')\n",
    "            self.overfull_count += 1\n",
    "            return hash(obj) % self.size\n",
    "        else:\n",
    "            d[obj] = count\n",
    "            return count\n",
    "\n",
    "def hash_coords(coordinates, m, read_only=False):\n",
    "    if isinstance(m, IHT): return m.get_index(tuple(coordinates), read_only)\n",
    "    if isinstance(m, int): return hash(tuple(coordinates)) % m\n",
    "    if m is None: return coordinates\n",
    "\n",
    "def tiles(iht_or_size, num_tilings, floats, ints=None, read_only=False):\n",
    "    \"\"\"returns num-tilings tile indices corresponding to the floats and ints\"\"\"\n",
    "    if ints is None:\n",
    "        ints = []\n",
    "    qfloats = [math.floor(f * num_tilings) for f in floats]\n",
    "    tiles = []\n",
    "    for tiling in range(num_tilings):\n",
    "        tilingX2 = tiling * 2\n",
    "        coords = [tiling]\n",
    "        b = tiling\n",
    "        for q in qfloats:\n",
    "            coords.append((q + b) // num_tilings)\n",
    "            b += tilingX2\n",
    "        coords.extend(ints)\n",
    "        tiles.append(hash_coords(coords, iht_or_size, read_only))\n",
    "    return tiles\n",
    "# Tile coding ends\n",
    "#######################################################################"
   ]
  },
  {
   "cell_type": "code",
   "execution_count": 6,
   "metadata": {},
   "outputs": [],
   "source": [
    "class Value_function():\n",
    "    def __init__(self,alpha: float):\n",
    "        self.hashmap = IHT(WEIGHT_DIMENSIONALITY)\n",
    "        self.weights_vector = np.zeros(WEIGHT_DIMENSIONALITY)\n",
    "        self.adjusted_alpha = alpha / TILINGS\n",
    "\n",
    "    def get_active_tiles(self,position: float, velocity: float, action: int):\n",
    "        p = position * POSITION_SCALE \n",
    "        v = velocity * VELOCITY_SCALE\n",
    "        return tiles(self.hashmap, TILINGS, (p,v), [action])\n",
    "\n",
    "    def get_value_estimate(self,position: float, velocity: float, action: int):\n",
    "        active_tiles = self.get_active_tiles(position,velocity,action)\n",
    "        current_value_estimate = np.sum(self.weights_vector[active_tiles])\n",
    "        return current_value_estimate\n",
    "\n",
    "    def update_weights(self,position: float, velocity: float, action: int, target: float):\n",
    "        active_tiles = self.get_active_tiles(position,velocity,action)\n",
    "        current_value_estimate = np.sum(self.weights_vector[active_tiles]) \n",
    "        #This is allowed because-for a tile-just being included in 'active_tiles' means that its associated weight is active\n",
    "        #the 'gradient' on q is just telling us which weights to update\n",
    "        for active_tile in active_tiles:\n",
    "            self.weights_vector[active_tile] += self.adjusted_alpha*(target - current_value_estimate)"
   ]
  },
  {
   "cell_type": "code",
   "execution_count": 7,
   "metadata": {},
   "outputs": [],
   "source": [
    "def get_action(position, velocity, value_function: Value_function):\n",
    "    if random.random() > EPSILON:\n",
    "        return random.choice(ACTIONS)\n",
    "    else:\n",
    "        values = []\n",
    "        for action in ACTIONS:\n",
    "            values.append(value_function.get_value_estimate(position,velocity,action))\n",
    "        return np.random.choice([action_ for action_,value_ in enumerate(values) if value_ == np.max(values)]) - 1 \n",
    "        #This minus one is here because we are indexing from 0 but our actions start at -1"
   ]
  },
  {
   "cell_type": "code",
   "execution_count": 8,
   "metadata": {},
   "outputs": [],
   "source": [
    "#This is for one episode. Call this multiple times with the same value function\n",
    "def episodic_semi_gradient_sarsa(value_function: Value_function):\n",
    "    position = float(random.randrange(-60, -40))/100 #between -.6 and -.4 with one extra sigfig\n",
    "    position = -0.6\n",
    "    velocity = 0.0\n",
    "    action = get_action(position, velocity, value_function)\n",
    "    environment = Environment(position,velocity)\n",
    "    steps = 0\n",
    "    while(True):\n",
    "\n",
    "        reward = environment.update(action)\n",
    "        next_position = environment.get_pos()\n",
    "        next_velocity = environment.get_vel()\n",
    "\n",
    "        if next_position == TERMINAL_POS:\n",
    "            value_function.update_weights(position,velocity,action,reward)\n",
    "            return value_function, steps\n",
    "\n",
    "        steps += 1\n",
    "        \n",
    "        next_action = get_action(next_position, next_velocity, value_function)\n",
    "        target = (reward + GAMMA * value_function.get_value_estimate(next_position, next_velocity, next_action))\n",
    "        value_function.update_weights(position, velocity, action, target)\n",
    "\n",
    "        position = next_position\n",
    "        velocity = next_velocity\n",
    "        action = next_action"
   ]
  },
  {
   "cell_type": "code",
   "execution_count": 9,
   "metadata": {},
   "outputs": [],
   "source": [
    "def mountain_car_example_ten_one():\n",
    "    plt.figure(figsize=(10,10))\n",
    "\n",
    "    RUNS = 10\n",
    "    EPISODES = 100\n",
    "    ALPHAS = [0.1,0.2,0.5]\n",
    "    \n",
    "    for alpha in ALPHAS:\n",
    "        print(alpha)\n",
    "        steps_per_episodes_per_runs = []\n",
    "        for run in range(RUNS):\n",
    "            print(run)\n",
    "            value_function = Value_function(alpha)\n",
    "            steps_per_episodes = []\n",
    "            for episode in range(EPISODES):\n",
    "                value_function,steps = episodic_semi_gradient_sarsa(value_function)\n",
    "                steps_per_episodes.append(steps)\n",
    "            steps_per_episodes_per_runs.append(steps_per_episodes)\n",
    "        steps_per_episodes_averaged = np.mean(np.array(steps_per_episodes_per_runs),axis=0)\n",
    "        plt.plot(steps_per_episodes_averaged,label=alpha)\n",
    "    plt.legend()\n",
    "    plt.show()\n",
    "\n",
    "\n",
    "            \n"
   ]
  },
  {
   "cell_type": "code",
   "execution_count": 10,
   "metadata": {
    "tags": []
   },
   "outputs": [
    {
     "output_type": "stream",
     "name": "stdout",
     "text": [
      "0.1\n0\nIHT full, starting to allow collisions\n"
     ]
    },
    {
     "output_type": "error",
     "ename": "KeyboardInterrupt",
     "evalue": "",
     "traceback": [
      "\u001b[0;31m---------------------------------------------------------------------------\u001b[0m",
      "\u001b[0;31mKeyboardInterrupt\u001b[0m                         Traceback (most recent call last)",
      "\u001b[0;32m<ipython-input-10-a020c2ab9b36>\u001b[0m in \u001b[0;36m<module>\u001b[0;34m\u001b[0m\n\u001b[0;32m----> 1\u001b[0;31m \u001b[0mmountain_car_example_ten_one\u001b[0m\u001b[0;34m(\u001b[0m\u001b[0;34m)\u001b[0m\u001b[0;34m\u001b[0m\u001b[0;34m\u001b[0m\u001b[0m\n\u001b[0m",
      "\u001b[0;32m<ipython-input-9-1756c75bc175>\u001b[0m in \u001b[0;36mmountain_car_example_ten_one\u001b[0;34m()\u001b[0m\n\u001b[1;32m     14\u001b[0m             \u001b[0msteps_per_episodes\u001b[0m \u001b[0;34m=\u001b[0m \u001b[0;34m[\u001b[0m\u001b[0;34m]\u001b[0m\u001b[0;34m\u001b[0m\u001b[0;34m\u001b[0m\u001b[0m\n\u001b[1;32m     15\u001b[0m             \u001b[0;32mfor\u001b[0m \u001b[0mepisode\u001b[0m \u001b[0;32min\u001b[0m \u001b[0mrange\u001b[0m\u001b[0;34m(\u001b[0m\u001b[0mEPISODES\u001b[0m\u001b[0;34m)\u001b[0m\u001b[0;34m:\u001b[0m\u001b[0;34m\u001b[0m\u001b[0;34m\u001b[0m\u001b[0m\n\u001b[0;32m---> 16\u001b[0;31m                 \u001b[0mvalue_function\u001b[0m\u001b[0;34m,\u001b[0m\u001b[0msteps\u001b[0m \u001b[0;34m=\u001b[0m \u001b[0mepisodic_semi_gradient_sarsa\u001b[0m\u001b[0;34m(\u001b[0m\u001b[0mvalue_function\u001b[0m\u001b[0;34m)\u001b[0m\u001b[0;34m\u001b[0m\u001b[0;34m\u001b[0m\u001b[0m\n\u001b[0m\u001b[1;32m     17\u001b[0m                 \u001b[0msteps_per_episodes\u001b[0m\u001b[0;34m.\u001b[0m\u001b[0mappend\u001b[0m\u001b[0;34m(\u001b[0m\u001b[0msteps\u001b[0m\u001b[0;34m)\u001b[0m\u001b[0;34m\u001b[0m\u001b[0;34m\u001b[0m\u001b[0m\n\u001b[1;32m     18\u001b[0m             \u001b[0msteps_per_episodes_per_runs\u001b[0m\u001b[0;34m.\u001b[0m\u001b[0mappend\u001b[0m\u001b[0;34m(\u001b[0m\u001b[0msteps_per_episodes\u001b[0m\u001b[0;34m)\u001b[0m\u001b[0;34m\u001b[0m\u001b[0;34m\u001b[0m\u001b[0m\n",
      "\u001b[0;32m<ipython-input-8-22a3331494b1>\u001b[0m in \u001b[0;36mepisodic_semi_gradient_sarsa\u001b[0;34m(value_function)\u001b[0m\n\u001b[1;32m     19\u001b[0m \u001b[0;34m\u001b[0m\u001b[0m\n\u001b[1;32m     20\u001b[0m         \u001b[0mnext_action\u001b[0m \u001b[0;34m=\u001b[0m \u001b[0mget_action\u001b[0m\u001b[0;34m(\u001b[0m\u001b[0mnext_position\u001b[0m\u001b[0;34m,\u001b[0m \u001b[0mnext_velocity\u001b[0m\u001b[0;34m,\u001b[0m \u001b[0mvalue_function\u001b[0m\u001b[0;34m)\u001b[0m\u001b[0;34m\u001b[0m\u001b[0;34m\u001b[0m\u001b[0m\n\u001b[0;32m---> 21\u001b[0;31m         \u001b[0mtarget\u001b[0m \u001b[0;34m=\u001b[0m \u001b[0;34m(\u001b[0m\u001b[0mreward\u001b[0m \u001b[0;34m+\u001b[0m \u001b[0mGAMMA\u001b[0m \u001b[0;34m*\u001b[0m \u001b[0mvalue_function\u001b[0m\u001b[0;34m.\u001b[0m\u001b[0mget_value_estimate\u001b[0m\u001b[0;34m(\u001b[0m\u001b[0mnext_position\u001b[0m\u001b[0;34m,\u001b[0m \u001b[0mnext_velocity\u001b[0m\u001b[0;34m,\u001b[0m \u001b[0mnext_action\u001b[0m\u001b[0;34m)\u001b[0m\u001b[0;34m)\u001b[0m\u001b[0;34m\u001b[0m\u001b[0;34m\u001b[0m\u001b[0m\n\u001b[0m\u001b[1;32m     22\u001b[0m         \u001b[0mvalue_function\u001b[0m\u001b[0;34m.\u001b[0m\u001b[0mupdate_weights\u001b[0m\u001b[0;34m(\u001b[0m\u001b[0mposition\u001b[0m\u001b[0;34m,\u001b[0m \u001b[0mvelocity\u001b[0m\u001b[0;34m,\u001b[0m \u001b[0maction\u001b[0m\u001b[0;34m,\u001b[0m \u001b[0mtarget\u001b[0m\u001b[0;34m)\u001b[0m\u001b[0;34m\u001b[0m\u001b[0;34m\u001b[0m\u001b[0m\n\u001b[1;32m     23\u001b[0m \u001b[0;34m\u001b[0m\u001b[0m\n",
      "\u001b[0;32m<ipython-input-6-f20f9f3857b5>\u001b[0m in \u001b[0;36mget_value_estimate\u001b[0;34m(self, position, velocity, action)\u001b[0m\n\u001b[1;32m     11\u001b[0m \u001b[0;34m\u001b[0m\u001b[0m\n\u001b[1;32m     12\u001b[0m     \u001b[0;32mdef\u001b[0m \u001b[0mget_value_estimate\u001b[0m\u001b[0;34m(\u001b[0m\u001b[0mself\u001b[0m\u001b[0;34m,\u001b[0m\u001b[0mposition\u001b[0m\u001b[0;34m:\u001b[0m \u001b[0mfloat\u001b[0m\u001b[0;34m,\u001b[0m \u001b[0mvelocity\u001b[0m\u001b[0;34m:\u001b[0m \u001b[0mfloat\u001b[0m\u001b[0;34m,\u001b[0m \u001b[0maction\u001b[0m\u001b[0;34m:\u001b[0m \u001b[0mint\u001b[0m\u001b[0;34m)\u001b[0m\u001b[0;34m:\u001b[0m\u001b[0;34m\u001b[0m\u001b[0;34m\u001b[0m\u001b[0m\n\u001b[0;32m---> 13\u001b[0;31m         \u001b[0mactive_tiles\u001b[0m \u001b[0;34m=\u001b[0m \u001b[0mself\u001b[0m\u001b[0;34m.\u001b[0m\u001b[0mget_active_tiles\u001b[0m\u001b[0;34m(\u001b[0m\u001b[0mposition\u001b[0m\u001b[0;34m,\u001b[0m\u001b[0mvelocity\u001b[0m\u001b[0;34m,\u001b[0m\u001b[0maction\u001b[0m\u001b[0;34m)\u001b[0m\u001b[0;34m\u001b[0m\u001b[0;34m\u001b[0m\u001b[0m\n\u001b[0m\u001b[1;32m     14\u001b[0m         \u001b[0mcurrent_value_estimate\u001b[0m \u001b[0;34m=\u001b[0m \u001b[0mnp\u001b[0m\u001b[0;34m.\u001b[0m\u001b[0msum\u001b[0m\u001b[0;34m(\u001b[0m\u001b[0mself\u001b[0m\u001b[0;34m.\u001b[0m\u001b[0mweights_vector\u001b[0m\u001b[0;34m[\u001b[0m\u001b[0mactive_tiles\u001b[0m\u001b[0;34m]\u001b[0m\u001b[0;34m)\u001b[0m\u001b[0;34m\u001b[0m\u001b[0;34m\u001b[0m\u001b[0m\n\u001b[1;32m     15\u001b[0m         \u001b[0;32mreturn\u001b[0m \u001b[0mcurrent_value_estimate\u001b[0m\u001b[0;34m\u001b[0m\u001b[0;34m\u001b[0m\u001b[0m\n",
      "\u001b[0;32m<ipython-input-6-f20f9f3857b5>\u001b[0m in \u001b[0;36mget_active_tiles\u001b[0;34m(self, position, velocity, action)\u001b[0m\n\u001b[1;32m      8\u001b[0m         \u001b[0mp\u001b[0m \u001b[0;34m=\u001b[0m \u001b[0mposition\u001b[0m \u001b[0;34m*\u001b[0m \u001b[0mPOSITION_SCALE\u001b[0m\u001b[0;34m\u001b[0m\u001b[0;34m\u001b[0m\u001b[0m\n\u001b[1;32m      9\u001b[0m         \u001b[0mv\u001b[0m \u001b[0;34m=\u001b[0m \u001b[0mvelocity\u001b[0m \u001b[0;34m*\u001b[0m \u001b[0mVELOCITY_SCALE\u001b[0m\u001b[0;34m\u001b[0m\u001b[0;34m\u001b[0m\u001b[0m\n\u001b[0;32m---> 10\u001b[0;31m         \u001b[0;32mreturn\u001b[0m \u001b[0mtiles\u001b[0m\u001b[0;34m(\u001b[0m\u001b[0mself\u001b[0m\u001b[0;34m.\u001b[0m\u001b[0mhashmap\u001b[0m\u001b[0;34m,\u001b[0m \u001b[0mTILINGS\u001b[0m\u001b[0;34m,\u001b[0m \u001b[0;34m(\u001b[0m\u001b[0mp\u001b[0m\u001b[0;34m,\u001b[0m\u001b[0mv\u001b[0m\u001b[0;34m)\u001b[0m\u001b[0;34m,\u001b[0m \u001b[0;34m[\u001b[0m\u001b[0maction\u001b[0m\u001b[0;34m]\u001b[0m\u001b[0;34m)\u001b[0m\u001b[0;34m\u001b[0m\u001b[0;34m\u001b[0m\u001b[0m\n\u001b[0m\u001b[1;32m     11\u001b[0m \u001b[0;34m\u001b[0m\u001b[0m\n\u001b[1;32m     12\u001b[0m     \u001b[0;32mdef\u001b[0m \u001b[0mget_value_estimate\u001b[0m\u001b[0;34m(\u001b[0m\u001b[0mself\u001b[0m\u001b[0;34m,\u001b[0m\u001b[0mposition\u001b[0m\u001b[0;34m:\u001b[0m \u001b[0mfloat\u001b[0m\u001b[0;34m,\u001b[0m \u001b[0mvelocity\u001b[0m\u001b[0;34m:\u001b[0m \u001b[0mfloat\u001b[0m\u001b[0;34m,\u001b[0m \u001b[0maction\u001b[0m\u001b[0;34m:\u001b[0m \u001b[0mint\u001b[0m\u001b[0;34m)\u001b[0m\u001b[0;34m:\u001b[0m\u001b[0;34m\u001b[0m\u001b[0;34m\u001b[0m\u001b[0m\n",
      "\u001b[0;32m<ipython-input-5-7cf3de56ead9>\u001b[0m in \u001b[0;36mtiles\u001b[0;34m(iht_or_size, num_tilings, floats, ints, read_only)\u001b[0m\n\u001b[1;32m     54\u001b[0m     \u001b[0mtiles\u001b[0m \u001b[0;34m=\u001b[0m \u001b[0;34m[\u001b[0m\u001b[0;34m]\u001b[0m\u001b[0;34m\u001b[0m\u001b[0;34m\u001b[0m\u001b[0m\n\u001b[1;32m     55\u001b[0m     \u001b[0;32mfor\u001b[0m \u001b[0mtiling\u001b[0m \u001b[0;32min\u001b[0m \u001b[0mrange\u001b[0m\u001b[0;34m(\u001b[0m\u001b[0mnum_tilings\u001b[0m\u001b[0;34m)\u001b[0m\u001b[0;34m:\u001b[0m\u001b[0;34m\u001b[0m\u001b[0;34m\u001b[0m\u001b[0m\n\u001b[0;32m---> 56\u001b[0;31m         \u001b[0mtilingX2\u001b[0m \u001b[0;34m=\u001b[0m \u001b[0mtiling\u001b[0m \u001b[0;34m*\u001b[0m \u001b[0;36m2\u001b[0m\u001b[0;34m\u001b[0m\u001b[0;34m\u001b[0m\u001b[0m\n\u001b[0m\u001b[1;32m     57\u001b[0m         \u001b[0mcoords\u001b[0m \u001b[0;34m=\u001b[0m \u001b[0;34m[\u001b[0m\u001b[0mtiling\u001b[0m\u001b[0;34m]\u001b[0m\u001b[0;34m\u001b[0m\u001b[0;34m\u001b[0m\u001b[0m\n\u001b[1;32m     58\u001b[0m         \u001b[0mb\u001b[0m \u001b[0;34m=\u001b[0m \u001b[0mtiling\u001b[0m\u001b[0;34m\u001b[0m\u001b[0;34m\u001b[0m\u001b[0m\n",
      "\u001b[0;31mKeyboardInterrupt\u001b[0m: "
     ]
    }
   ],
   "source": [
    "mountain_car_example_ten_one()"
   ]
  },
  {
   "cell_type": "code",
   "execution_count": 11,
   "metadata": {
    "tags": []
   },
   "outputs": [
    {
     "output_type": "stream",
     "name": "stdout",
     "text": [
      "0.30501102959397497\n-0.8369676199072502\n-0.2659782951566376\n"
     ]
    }
   ],
   "source": [
    "env = Environment(-0.84,0.0)\n",
    "min_pos = 10000.0\n",
    "max_pos = -10000.0\n",
    "x = 0\n",
    "while(x < 100):\n",
    "    if env.update(1.0) == True:\n",
    "        print(\"we did it\")\n",
    "        break\n",
    "    max_pos = max(env.get_pos(),max_pos)\n",
    "    min_pos = min(env.get_pos(),min_pos)\n",
    "\n",
    "    x+=1\n",
    "\n",
    "print(max_pos)\n",
    "print(min_pos)\n",
    "print((max_pos + min_pos)/2.0)"
   ]
  },
  {
   "cell_type": "code",
   "execution_count": null,
   "metadata": {},
   "outputs": [],
   "source": []
  }
 ]
}