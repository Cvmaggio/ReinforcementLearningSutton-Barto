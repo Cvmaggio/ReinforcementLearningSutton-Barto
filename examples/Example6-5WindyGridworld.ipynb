{
 "metadata": {
  "language_info": {
   "codemirror_mode": {
    "name": "ipython",
    "version": 3
   },
   "file_extension": ".py",
   "mimetype": "text/x-python",
   "name": "python",
   "nbconvert_exporter": "python",
   "pygments_lexer": "ipython3",
   "version": "3.8.3-final"
  },
  "orig_nbformat": 2,
  "kernelspec": {
   "name": "python3",
   "display_name": "Python 3",
   "language": "python"
  }
 },
 "nbformat": 4,
 "nbformat_minor": 2,
 "cells": [
  {
   "cell_type": "code",
   "execution_count": 30,
   "metadata": {},
   "outputs": [],
   "source": [
    "import numpy as np\n",
    "import random\n",
    "import matplotlib.pyplot as plt"
   ]
  },
  {
   "cell_type": "code",
   "execution_count": 31,
   "metadata": {},
   "outputs": [],
   "source": [
    "YMAX = 7-1\n",
    "XMAX = 10-1\n",
    "GOAL = (7,3)\n",
    "START = (0,3)\n",
    "#valid actions start at top left and run clockwise around the current point \n",
    "VALIDACTIONS = []\n",
    "EPISODES = 175\n",
    "#origin is at 0,0\n",
    "ALPHA = .5\n",
    "EPSILON = .1\n",
    "GAMMA = 1"
   ]
  },
  {
   "cell_type": "code",
   "execution_count": 32,
   "metadata": {},
   "outputs": [],
   "source": [
    "def walk(s,a,validActions):\n",
    "    if a not in validActions:\n",
    "        raise ValueError('Invalid action provided')\n",
    "\n",
    "    sX,sY = s\n",
    "    aX,aY = a\n",
    "\n",
    "    dY = aY + (2 if sX >= 6 and sX <= 7 else \\\n",
    "                1 if sX >= 3 and sX <= 8 else \\\n",
    "                0)\n",
    "    dX = aX\n",
    "    \n",
    "    sXP = max(0,min(XMAX,sX+dX))\n",
    "    sYP = max(0,min(YMAX,sY+dY))  \n",
    "\n",
    "    sP = (sXP,sYP)\n",
    "\n",
    "    r = 0 if sP == GOAL else -1\n",
    "\n",
    "    return sP,r"
   ]
  },
  {
   "cell_type": "code",
   "execution_count": 33,
   "metadata": {},
   "outputs": [],
   "source": [
    "#This function is only used for visualization \n",
    "def getMaxActionIndex(sG):\n",
    "    return np.argmax(sG)"
   ]
  },
  {
   "cell_type": "code",
   "execution_count": 34,
   "metadata": {},
   "outputs": [],
   "source": [
    "def getActionIndex(sG,validActions):\n",
    "    rand = random.random()\n",
    "    if rand > EPSILON:\n",
    "        #do current greedy\n",
    "        aIndex = np.argmax(sG)\n",
    "    else: \n",
    "        aIndex = random.randint(0,len(validActions)-1)\n",
    "    return aIndex"
   ]
  },
  {
   "cell_type": "code",
   "execution_count": 35,
   "metadata": {
    "tags": []
   },
   "outputs": [],
   "source": [
    "#index into Q as y then x\n",
    "def exercise(kingMove: bool, sochasticWind: bool):\n",
    "    validActions = [(-1,1),(0,1),(1,1),(1,0),(1,-1),(0,-1),(-1,-1),(-1,0)] if kingMove else [(0,1),(1,0),(0,-1),(-1,0)]\n",
    "    sochasticWind\n",
    "\n",
    "    Q = np.random.rand(10,7,len(validActions))\n",
    "\n",
    "    times = [0]\n",
    "    time = 0\n",
    "    for _ in range(EPISODES):\n",
    "        s = (0,3)\n",
    "        aIndex = getActionIndex(Q[s],validActions)\n",
    "        while(True):\n",
    "            # if (s[0]==9 and s[1] == 5):\n",
    "            #     print(VALIDACTIONS[aIndex])\n",
    "            a = validActions[aIndex]\n",
    "\n",
    "            # print(Q[9,5])\n",
    "\n",
    "            sP,r = walk(s,a,validActions)\n",
    "\n",
    "            aPIndex = getActionIndex(Q[sP],validActions)\n",
    "            aP = validActions[aPIndex]\n",
    "\n",
    "            Q[s][aIndex] = Q[s][aIndex] + ALPHA * (r + (GAMMA * Q[sP][aPIndex]) - Q[s][aIndex])\n",
    "\n",
    "            aIndex = aPIndex\n",
    "            s = sP\n",
    "            time += 1\n",
    "            if (r == 0):\n",
    "                break\n",
    "        times.append(time)\n",
    "    figure(times)"
   ]
  },
  {
   "cell_type": "code",
   "execution_count": 36,
   "metadata": {},
   "outputs": [],
   "source": [
    "def figure(times):\n",
    "    plt.figure(figsize=(10,10))\n",
    "    plt.plot(times,range(len(times)))\n",
    "    plt.title(\"Windy Gridworld Accumulated Time\")\n",
    "    plt.xlabel(\"Time Steps\")\n",
    "    plt.ylabel(\"Episodes\")\n",
    "    plt.savefig(\"../figures/example6-5/WindyGridworldAccumulatedTime.png\")\n",
    "    plt.show()"
   ]
  },
  {
   "cell_type": "code",
   "execution_count": 37,
   "metadata": {},
   "outputs": [],
   "source": [
    "def policyVisual():\n",
    "    for x in Q:\n",
    "        for y in x:\n",
    "            print(str(VALIDACTIONS[getMaxActionIndex(y)]),end= \"| \")\n",
    "        print()\n",
    "\n",
    "    #This graph is a little missleading x increases as you go down rows y increases left to right but x is the first number in the tuple"
   ]
  },
  {
   "cell_type": "code",
   "execution_count": 38,
   "metadata": {},
   "outputs": [
    {
     "output_type": "error",
     "ename": "ValueError",
     "evalue": "Invalid action provided",
     "traceback": [
      "\u001b[1;31m---------------------------------------------------------------------------\u001b[0m",
      "\u001b[1;31mValueError\u001b[0m                                Traceback (most recent call last)",
      "\u001b[1;32m<ipython-input-38-4e798d797f08>\u001b[0m in \u001b[0;36m<module>\u001b[1;34m\u001b[0m\n\u001b[1;32m----> 1\u001b[1;33m \u001b[0mexercise\u001b[0m\u001b[1;33m(\u001b[0m\u001b[1;32mFalse\u001b[0m\u001b[1;33m,\u001b[0m\u001b[1;32mFalse\u001b[0m\u001b[1;33m)\u001b[0m\u001b[1;33m\u001b[0m\u001b[1;33m\u001b[0m\u001b[0m\n\u001b[0m",
      "\u001b[1;32m<ipython-input-35-fba9778b2a72>\u001b[0m in \u001b[0;36mexercise\u001b[1;34m(kingMove, sochasticWind)\u001b[0m\n\u001b[0;32m     18\u001b[0m             \u001b[1;31m# print(Q[9,5])\u001b[0m\u001b[1;33m\u001b[0m\u001b[1;33m\u001b[0m\u001b[1;33m\u001b[0m\u001b[0m\n\u001b[0;32m     19\u001b[0m \u001b[1;33m\u001b[0m\u001b[0m\n\u001b[1;32m---> 20\u001b[1;33m             \u001b[0msP\u001b[0m\u001b[1;33m,\u001b[0m\u001b[0mr\u001b[0m \u001b[1;33m=\u001b[0m \u001b[0mwalk\u001b[0m\u001b[1;33m(\u001b[0m\u001b[0ms\u001b[0m\u001b[1;33m,\u001b[0m\u001b[0ma\u001b[0m\u001b[1;33m)\u001b[0m\u001b[1;33m\u001b[0m\u001b[1;33m\u001b[0m\u001b[0m\n\u001b[0m\u001b[0;32m     21\u001b[0m \u001b[1;33m\u001b[0m\u001b[0m\n\u001b[0;32m     22\u001b[0m             \u001b[0maPIndex\u001b[0m \u001b[1;33m=\u001b[0m \u001b[0mgetActionIndex\u001b[0m\u001b[1;33m(\u001b[0m\u001b[0mQ\u001b[0m\u001b[1;33m[\u001b[0m\u001b[0msP\u001b[0m\u001b[1;33m]\u001b[0m\u001b[1;33m,\u001b[0m\u001b[0mvalidActions\u001b[0m\u001b[1;33m)\u001b[0m\u001b[1;33m\u001b[0m\u001b[1;33m\u001b[0m\u001b[0m\n",
      "\u001b[1;32m<ipython-input-32-a03cef660cb9>\u001b[0m in \u001b[0;36mwalk\u001b[1;34m(s, a)\u001b[0m\n\u001b[0;32m      1\u001b[0m \u001b[1;32mdef\u001b[0m \u001b[0mwalk\u001b[0m\u001b[1;33m(\u001b[0m\u001b[0ms\u001b[0m\u001b[1;33m,\u001b[0m\u001b[0ma\u001b[0m\u001b[1;33m)\u001b[0m\u001b[1;33m:\u001b[0m\u001b[1;33m\u001b[0m\u001b[1;33m\u001b[0m\u001b[0m\n\u001b[0;32m      2\u001b[0m     \u001b[1;32mif\u001b[0m \u001b[0ma\u001b[0m \u001b[1;32mnot\u001b[0m \u001b[1;32min\u001b[0m \u001b[0mVALIDACTIONS\u001b[0m\u001b[1;33m:\u001b[0m\u001b[1;33m\u001b[0m\u001b[1;33m\u001b[0m\u001b[0m\n\u001b[1;32m----> 3\u001b[1;33m         \u001b[1;32mraise\u001b[0m \u001b[0mValueError\u001b[0m\u001b[1;33m(\u001b[0m\u001b[1;34m'Invalid action provided'\u001b[0m\u001b[1;33m)\u001b[0m\u001b[1;33m\u001b[0m\u001b[1;33m\u001b[0m\u001b[0m\n\u001b[0m\u001b[0;32m      4\u001b[0m \u001b[1;33m\u001b[0m\u001b[0m\n\u001b[0;32m      5\u001b[0m     \u001b[0msX\u001b[0m\u001b[1;33m,\u001b[0m\u001b[0msY\u001b[0m \u001b[1;33m=\u001b[0m \u001b[0ms\u001b[0m\u001b[1;33m\u001b[0m\u001b[1;33m\u001b[0m\u001b[0m\n",
      "\u001b[1;31mValueError\u001b[0m: Invalid action provided"
     ]
    }
   ],
   "source": [
    "exercise(False,False)"
   ]
  },
  {
   "cell_type": "code",
   "execution_count": null,
   "metadata": {},
   "outputs": [],
   "source": []
  }
 ]
}