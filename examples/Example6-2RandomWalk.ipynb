{
 "cells": [
  {
   "cell_type": "code",
   "execution_count": 2,
   "metadata": {},
   "outputs": [],
   "source": [
    "import random\n",
    "from matplotlib import pyplot as plt\n",
    "import numpy as np\n",
    "from copy import deepcopy\n",
    "from math import sqrt"
   ]
  },
  {
   "cell_type": "code",
   "execution_count": 3,
   "metadata": {},
   "outputs": [],
   "source": [
    "STATES = 7\n",
    "EPISODES = 100\n",
    "RUNS = 100\n",
    "GAMMA = 1\n",
    "VPI = ((1/6),(2/6),(3/6),(4/6),(5/6))\n"
   ]
  },
  {
   "cell_type": "code",
   "execution_count": 4,
   "metadata": {},
   "outputs": [],
   "source": [
    "def walk(start):\n",
    "    trajectory = []\n",
    "    s = start\n",
    "    while(True):\n",
    "        a  = 1 if random.randint(0,1) == 1 else -1\n",
    "        #append state, action, reward, only reward if get to far right terminal state\n",
    "        sPrime = s + a\n",
    "        trajectory.append([s,a,1 if sPrime == STATES-1 else 0,sPrime])\n",
    "        s = sPrime\n",
    "        if s == 0 or s == STATES-1:\n",
    "            break\n",
    "    return trajectory"
   ]
  },
  {
   "cell_type": "code",
   "execution_count": 5,
   "metadata": {},
   "outputs": [],
   "source": [
    "def estimatedValue(V, alpha, recordedEpisodes):\n",
    "    recordings = [deepcopy(V[1:len(V)-1])]\n",
    "    for i in range(EPISODES):\n",
    "        start = 3\n",
    "        trajectory = walk(start)\n",
    "        for step in trajectory:\n",
    "            s, a, r, sPrime = step[0],step[1],step[2],step[3]\n",
    "            V[s] = V[s] + alpha * (r + (GAMMA*V[sPrime]) - V[s])\n",
    "        if i+1 in recordedEpisodes:\n",
    "            recordings.append(deepcopy(V[1:len(V)-1]))\n",
    "    return recordings"
   ]
  },
  {
   "cell_type": "code",
   "execution_count": 6,
   "metadata": {
    "tags": []
   },
   "outputs": [],
   "source": [
    "def figure1():\n",
    "    plt.figure(figsize=(10,10))\n",
    "    V = [0,0.5,0.5,0.5,0.5,0.5,0]\n",
    "    alpha = .1\n",
    "    recordedEpisodes = [0,1,10,100]\n",
    "    recordings = estimatedValue(V,alpha,recordedEpisodes)\n",
    "    for recording,runNum in zip(recordings,recordedEpisodes):  \n",
    "        plt.plot(recording,label=runNum,marker='o')\n",
    "        \n",
    "        # plt.legend(recordedEpisodes)  \n",
    "    plt.plot(VPI,label=\"True Value\",marker='o')  \n",
    "    plt.xlabel('Nonterminal State')\n",
    "    plt.ylabel('Estimated Value')\n",
    "\n",
    "    x = np.array([0,1,2,3,4])\n",
    "    my_xticks = ['A','B','C','D','E']\n",
    "    plt.xticks(x, my_xticks)\n",
    "\n",
    "    plt.legend()\n",
    "    plt.savefig('../figures/example6-2/RandomWalkEstimatedValue.png')    \n",
    "    plt.close()"
   ]
  },
  {
   "cell_type": "code",
   "execution_count": 7,
   "metadata": {},
   "outputs": [],
   "source": [
    "def rms(numbers,expecteds):\n",
    "    total = 0\n",
    "    for number,expected in zip(numbers,expecteds):\n",
    "        total+=(number-expected)**2\n",
    "    return sqrt((1/len(numbers)) * total)"
   ]
  },
  {
   "cell_type": "code",
   "execution_count": 8,
   "metadata": {},
   "outputs": [],
   "source": [
    "def td(episodes,alpha,V):\n",
    "    Vts = []\n",
    "    for _ in range(episodes):\n",
    "        start = 3\n",
    "        trajectory = walk(start)\n",
    "        for step in trajectory:\n",
    "            s, a, r, sPrime = step[0],step[1],step[2],step[3]\n",
    "            V[s] = V[s] + alpha * (r + (GAMMA*V[sPrime]) - V[s])\n",
    "        Vts.append(rms(V[1:len(V)-1],VPi))\n",
    "    return Vts\n"
   ]
  },
  {
   "cell_type": "code",
   "execution_count": 9,
   "metadata": {},
   "outputs": [],
   "source": [
    "VPi = ((1/6),(2/6),(3/6),(4/6),(5/6))\n",
    "def mcEvery(episodes, alpha, V):\n",
    "    Vts = []\n",
    "    for _ in range(episodes):\n",
    "        start = 3\n",
    "        trajectory = walk(start)\n",
    "        G = 0\n",
    "        for i, step in enumerate(reversed(trajectory)):\n",
    "            s, r = step[0],step[2]\n",
    "            G = G * GAMMA + r\n",
    "            V[s] = V[s] + alpha*(G - V[s]) \n",
    "        Vts.append(rms((V[1:len(V)-1]),VPi))\n",
    "    return Vts\n",
    "\n"
   ]
  },
  {
   "cell_type": "code",
   "execution_count": 10,
   "metadata": {
    "tags": []
   },
   "outputs": [],
   "source": [
    "def figure2():\n",
    "    plt.figure(figsize=(10, 10))\n",
    "    lines = []\n",
    "    alphas = [.15,.1,.05, .01,.02,.03,.04]\n",
    "    evaluations = ['TD','TD','TD','MC','MC','MC','MC']\n",
    "    for alpha,evaluation in zip(alphas,evaluations):\n",
    "        averageRun = np.zeros(EPISODES)\n",
    "        for i in range(RUNS):\n",
    "            V = [0,0.5,0.5,0.5,0.5,0.5,0]\n",
    "            if (evaluation == 'TD'):\n",
    "                run = td(EPISODES,alpha,V)\n",
    "            elif (evaluation == 'MC'):\n",
    "                run = mcEvery(EPISODES,alpha,V)\n",
    "            for i in range(len(run)):\n",
    "                averageRun[i] += (1/(i+1) * (run[i] - averageRun[i]))\n",
    "        lines.append(averageRun)\n",
    "\n",
    "    for line,alpha,evaluation in zip(lines,alphas,evaluations):  \n",
    "        plt.plot(line,label=evaluation + \": \" + str(alpha))\n",
    "    plt.xlabel(\"Walks / Episodes\")\n",
    "    plt.ylabel(\"RMS Error Averaged Over {} Runs\".format(RUNS))\n",
    "    plt.legend()\n",
    "    plt.savefig('../figures/example6-2/RandomWalkRMSE.png')    \n",
    "    plt.close()\n",
    "\n",
    "\n",
    "\n",
    "    "
   ]
  },
  {
   "cell_type": "code",
   "execution_count": 11,
   "metadata": {},
   "outputs": [],
   "source": [
    "figure1()\n",
    "figure2()"
   ]
  },
  {
   "cell_type": "code",
   "execution_count": 33,
   "metadata": {},
   "outputs": [],
   "source": [
    "#Below is for exercise 6-5\n",
    "def figure3():\n",
    "    fig,axes = plt.subplots(4,2)\n",
    "    fig.set_figheight(40)\n",
    "    fig.set_figwidth(20)\n",
    "    initialValues = [.25,.4,.45,.5,.55,.6,.75,.9]\n",
    "    for iVindex,iV in enumerate(initialValues):\n",
    "        x,y = iVindex//2,iVindex%2\n",
    "        lines = []\n",
    "        alphas = [.15,.1,.05, .01,.02,.03,.04]\n",
    "        evaluations = ['TD','TD','TD','MC','MC','MC','MC']\n",
    "        for alpha,evaluation in zip(alphas,evaluations):\n",
    "            averageRun = np.zeros(EPISODES)\n",
    "            for i in range(RUNS):\n",
    "                V = [0,iV,iV,iV,iV,iV,0]\n",
    "                if (evaluation == 'TD'):\n",
    "                    run = td(EPISODES,alpha,V)\n",
    "                elif (evaluation == 'MC'):\n",
    "                    run = mcEvery(EPISODES,alpha,V)\n",
    "                for i in range(len(run)):\n",
    "                    averageRun[i] += (1/(i+1) * (run[i] - averageRun[i]))\n",
    "            lines.append(averageRun)        \n",
    "        for line,alpha,evaluation in zip(lines,alphas,evaluations):  \n",
    "            axes[x,y].plot(line,label=evaluation + \": \" + str(alpha))\n",
    "            axes[x,y].legend()\n",
    "            axes[x,y].set_title(\"Random Walk RMSE Inflection Initial \" + str(iV))\n",
    "            axes[x,y].set_xlabel(\"Walks / Episodes\")\n",
    "            axes[x,y].set_ylabel(\"RMSE Averaged Over {} Runs\".format(RUNS))\n",
    "    fig.savefig('../figures/exercise6-5/RandomWalkRMSEInitials.png')\n",
    "    plt.close()"
   ]
  },
  {
   "cell_type": "code",
   "execution_count": 34,
   "metadata": {},
   "outputs": [],
   "source": [
    "figure3()"
   ]
  },
  {
   "cell_type": "code",
   "execution_count": null,
   "metadata": {},
   "outputs": [],
   "source": []
  }
 ],
 "metadata": {
  "kernelspec": {
   "display_name": "Python 3",
   "language": "python",
   "name": "python3"
  },
  "language_info": {
   "codemirror_mode": {
    "name": "ipython",
    "version": 3
   },
   "file_extension": ".py",
   "mimetype": "text/x-python",
   "name": "python",
   "nbconvert_exporter": "python",
   "pygments_lexer": "ipython3",
   "version": "3.8.3-final"
  }
 },
 "nbformat": 4,
 "nbformat_minor": 4
}